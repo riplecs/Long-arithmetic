{
 "cells": [
  {
   "cell_type": "code",
   "execution_count": 12,
   "metadata": {},
   "outputs": [],
   "source": [
    "import random\n",
    "import numpy as np\n"
   ]
  },
  {
   "cell_type": "markdown",
   "metadata": {},
   "source": [
    "POLYNOMIAL BASIS"
   ]
  },
  {
   "cell_type": "code",
   "execution_count": 1,
   "metadata": {},
   "outputs": [],
   "source": [
    "def MakeGen(m, b, c, d, k):\n",
    "    res=[0]*(m+1)\n",
    "    res[m]=res[b]=res[c]=res[d]=res[k]=1\n",
    "    return res[::-1]"
   ]
  },
  {
   "cell_type": "code",
   "execution_count": 2,
   "metadata": {},
   "outputs": [],
   "source": [
    "def MakeX(poly):\n",
    "    x=[]\n",
    "    for i in range(m-1):\n",
    "        if poly[i]==1:\n",
    "            t = f'x^{m-1-i}'\n",
    "            x.append(t)\n",
    "    if poly[-1]==1: x.append('1')\n",
    "    if x==[]: x==[0]*m\n",
    "    return x\n",
    "       \n",
    "def PrintX(poly):\n",
    "    pol=MakeX(poly)\n",
    "    res=[]\n",
    "    res.append(' + '.join(pol))\n",
    "    return res\n"
   ]
  },
  {
   "cell_type": "code",
   "execution_count": 3,
   "metadata": {},
   "outputs": [],
   "source": [
    "def AddPoly(a, b):\n",
    "    c=[0]\n",
    "    for i in range(m):\n",
    "        c.append(((a[i] if i<len(a) else 0)+(b[i] if i<len(b) else 0))%2)\n",
    "    return (c if len(c)<=m else c[(len(c)-m):])\n",
    "        "
   ]
  },
  {
   "cell_type": "code",
   "execution_count": 4,
   "metadata": {},
   "outputs": [],
   "source": [
    "def PolyMod(a, g):\n",
    "    final=np.polydiv(a, g)[1]\n",
    "    for i in range (0, len(final)+1):\n",
    "        final[i]=final[i]%2\n",
    "    return np.array(final)\n",
    "\n",
    "def MulPoly(a, b):\n",
    "    p1 = np.poly1d(a)\n",
    "    p2 = np.poly1d(b)\n",
    "    res=p1*p2 \n",
    "    for i in range (0, len(res)+1):\n",
    "        res[i]=res[i]%2\n",
    "    return PolyMod(res, GEN)\n"
   ]
  },
  {
   "cell_type": "code",
   "execution_count": 5,
   "metadata": {},
   "outputs": [],
   "source": [
    "def SquarePoly(a):\n",
    "    res=a\n",
    "    i=1\n",
    "    while i<len(res):\n",
    "        if i%2==1:\n",
    "            res.insert(i, 0)\n",
    "        i=i+1\n",
    "    return PolyMod(np.poly1d(res), GEN)"
   ]
  },
  {
   "cell_type": "code",
   "execution_count": 6,
   "metadata": {},
   "outputs": [],
   "source": [
    "def Trace(a):\n",
    "    res=0\n",
    "    deg=0\n",
    "    while deg<m:\n",
    "        res=res+ int(Convert(PowPoly(a, ((2**deg)%(2**m - 1)))), 2)\n",
    "        deg=deg+1\n",
    "        print(deg)\n",
    "    return res%2"
   ]
  },
  {
   "cell_type": "code",
   "execution_count": 7,
   "metadata": {},
   "outputs": [],
   "source": [
    "def PowPoly(a, n):\n",
    "    if n==0: return [1]\n",
    "    elif n%2==0:\n",
    "        return PowPoly(MulPoly(a, a), n//2)\n",
    "    else:\n",
    "        return MulPoly(PowPoly(MulPoly(a, a), n//2), a)"
   ]
  },
  {
   "cell_type": "code",
   "execution_count": 8,
   "metadata": {},
   "outputs": [],
   "source": [
    "def Reverse(a):\n",
    "    return PowPoly(a, 2**m-2)"
   ]
  },
  {
   "cell_type": "code",
   "execution_count": 9,
   "metadata": {},
   "outputs": [],
   "source": [
    "def Convert(a):\n",
    "    res=[0]*(len(a))\n",
    "    for i in range(len(a)):\n",
    "        res[i]=str(int(a[i]))\n",
    "    result=''.join(res)\n",
    "    return result\n"
   ]
  },
  {
   "cell_type": "code",
   "execution_count": 10,
   "metadata": {},
   "outputs": [],
   "source": [
    "def Deconvert(a):\n",
    "    return list(map(int, a))"
   ]
  },
  {
   "cell_type": "code",
   "execution_count": 13,
   "metadata": {
    "scrolled": true
   },
   "outputs": [
    {
     "name": "stdout",
     "output_type": "stream",
     "text": [
      "Enter the m - the field dimension:\n",
      "dimension: 283\n",
      "Choose to what degrees the coefficients are equal to 1 (start from the biggest):\n",
      "degrees: 26\n",
      "9\n",
      "1\n",
      "0\n",
      "   283     26     9\n",
      "1 x   + 1 x  + 1 x + 1 x + 1  - field generator \n"
     ]
    }
   ],
   "source": [
    "print('Enter the m - the field dimension:')\n",
    "m=int(input('dimension: '))\n",
    "print('Choose to what degrees the coefficients are equal to 1 (start from the biggest):')\n",
    "k, k1, k2, k3 = int(input('degrees: ')), int(input()), int(input()), int(input())\n",
    "GEN = np.poly1d(MakeGen(m, k, k1, k2, k3))\n",
    "print(GEN, ' - field generator ')"
   ]
  },
  {
   "cell_type": "code",
   "execution_count": 17,
   "metadata": {
    "scrolled": false
   },
   "outputs": [
    {
     "name": "stdout",
     "output_type": "stream",
     "text": [
      "Enter 1 if you wants randomly generate inputs data or enter 2 to fill in it by yourself: \n",
      "1\n",
      "A =  ['x^282 + x^281 + x^277 + x^276 + x^275 + x^272 + x^271 + x^270 + x^268 + x^267 + x^260 + x^259 + x^256 + x^254 + x^251 + x^250 + x^249 + x^248 + x^246 + x^245 + x^243 + x^239 + x^238 + x^236 + x^233 + x^232 + x^230 + x^228 + x^226 + x^223 + x^217 + x^216 + x^214 + x^213 + x^212 + x^210 + x^207 + x^206 + x^205 + x^204 + x^202 + x^201 + x^200 + x^199 + x^198 + x^197 + x^196 + x^195 + x^194 + x^193 + x^192 + x^189 + x^187 + x^185 + x^181 + x^180 + x^177 + x^175 + x^174 + x^173 + x^171 + x^170 + x^169 + x^168 + x^167 + x^163 + x^162 + x^161 + x^160 + x^159 + x^157 + x^155 + x^154 + x^153 + x^152 + x^149 + x^148 + x^143 + x^140 + x^138 + x^137 + x^136 + x^131 + x^129 + x^128 + x^127 + x^124 + x^120 + x^119 + x^115 + x^114 + x^113 + x^112 + x^111 + x^107 + x^103 + x^102 + x^100 + x^98 + x^93 + x^91 + x^90 + x^89 + x^87 + x^85 + x^83 + x^81 + x^80 + x^78 + x^73 + x^72 + x^71 + x^68 + x^67 + x^66 + x^65 + x^61 + x^60 + x^59 + x^57 + x^55 + x^53 + x^51 + x^46 + x^45 + x^44 + x^42 + x^40 + x^39 + x^38 + x^37 + x^36 + x^33 + x^32 + x^27 + x^26 + x^25 + x^24 + x^23 + x^22 + x^19 + x^18 + x^16 + x^13 + x^10 + x^9 + x^8 + x^7 + x^6 + x^3']\n",
      "B =  ['x^280 + x^276 + x^274 + x^273 + x^272 + x^271 + x^267 + x^262 + x^261 + x^260 + x^259 + x^258 + x^257 + x^255 + x^254 + x^251 + x^250 + x^247 + x^246 + x^242 + x^240 + x^239 + x^238 + x^237 + x^235 + x^233 + x^232 + x^231 + x^230 + x^229 + x^228 + x^226 + x^225 + x^222 + x^221 + x^219 + x^212 + x^210 + x^209 + x^207 + x^205 + x^204 + x^202 + x^201 + x^198 + x^197 + x^196 + x^195 + x^193 + x^190 + x^189 + x^185 + x^184 + x^181 + x^180 + x^177 + x^176 + x^174 + x^169 + x^168 + x^166 + x^165 + x^163 + x^162 + x^161 + x^160 + x^159 + x^154 + x^153 + x^152 + x^151 + x^149 + x^148 + x^146 + x^143 + x^142 + x^140 + x^137 + x^135 + x^134 + x^133 + x^132 + x^130 + x^128 + x^126 + x^124 + x^123 + x^121 + x^120 + x^117 + x^116 + x^115 + x^112 + x^111 + x^107 + x^100 + x^99 + x^98 + x^96 + x^95 + x^93 + x^92 + x^91 + x^87 + x^85 + x^84 + x^83 + x^82 + x^81 + x^78 + x^77 + x^76 + x^74 + x^69 + x^68 + x^67 + x^61 + x^60 + x^56 + x^55 + x^54 + x^53 + x^52 + x^51 + x^50 + x^49 + x^48 + x^47 + x^46 + x^45 + x^41 + x^40 + x^39 + x^38 + x^35 + x^34 + x^33 + x^30 + x^29 + x^28 + x^25 + x^23 + x^22 + x^21 + x^20 + x^18 + x^17 + x^15 + x^12 + x^11 + x^10 + x^9 + x^8 + x^6 + x^5 + x^4 + x^3 + x^2 + 1']\n",
      "A =  639D8194F68D3548374F7FF2A32EF8FAF30970B918F88D42EAB439E3AA875F30FCD27C8\n",
      "B =  117887ECCC5EBF66816B67A6333436F87B4D2F55B39881DB8BE743831FFE3CE72F69F7D\n",
      "A + B =  72E506783AD38A2EB6241854901ACE0288445FECAB600C9961537A60B57963D7D3BB8B5\n",
      "A*B =  272D4528323217E61380C13B41F7D32E0620275E1BFC24D9D79493E1944AC7B9245B910\n",
      "A^2 =  764ACCBB17BF606323555C701F4B8D47E2C18A435CCF832A7FB01A56D979D6DADDD3787\n",
      "Enter the degree you want the polynom to raise in: \n",
      "n in dec = 987654312345678654321345678\n",
      "n in hex =  330F7EF8E34CB860EE2448E\n",
      "A^330F7EF8E34CB860EE2448E =  62A8AAD316F5654A225BC02A4F4B3DAE02933318942666A65C50E3435C146C7FC235691\n",
      "A^-1 =  30602B0E05343114543C4A5AC25B793ECFF73D36FA95463AB954A45BD7D6A5BE672FCE5\n",
      "Сorrectness tests:\n",
      "A^(2^283-1) =  1\n"
     ]
    }
   ],
   "source": [
    "print('Enter 1 if you wants randomly generate inputs data or enter 2 to fill in it by yourself: ')\n",
    "choise=input()\n",
    "if choise=='1':\n",
    "    items = [1, 0]\n",
    "    Poly_one = random.choices(items, k=m)\n",
    "    Poly_two = random.choices(items, k=m)\n",
    "    Poly_one_copy=Poly_one.copy()\n",
    "    Poly_two_copy=Poly_two.copy()\n",
    "    print('A = ', PrintX(Poly_one))\n",
    "    print('B = ', PrintX(Poly_two))\n",
    "    print('A = ', hex(int(Convert(Poly_one), 2))[2:].swapcase())\n",
    "    print('B = ', hex(int(Convert(Poly_two), 2))[2:].swapcase())\n",
    "    print('A + B = ', hex(int(Convert(AddPoly(Poly_one, Poly_two)), 2))[2:].swapcase())\n",
    "    print('A*B = ', hex(int(Convert(MulPoly(Poly_one, Poly_two)), 2))[2:].swapcase())\n",
    "    print('A^2 = ', hex(int(Convert(SquarePoly(Poly_one)), 2))[2:].swapcase())\n",
    "    print('Enter the degree you want the polynom to raise in: ')\n",
    "    n=int(input('n in dec = '))\n",
    "    k=hex(n)[2:].swapcase()\n",
    "    print('n in hex = ', k)\n",
    "    print(f'A^{k} = ', hex(int(Convert(PowPoly(Poly_one_copy, n)), 2))[2:].swapcase())\n",
    "    #print('Tr(A) = ', Trace(Poly_one_copy))\n",
    "    #print('Tr(A) = ', hex(int(Convert(Trace(Poly_one_copy)), 2))[2:].swapcase())\n",
    "    print('A^-1 = ', hex(int(Convert(Reverse(Poly_one_copy)), 2))[2:].swapcase())\n",
    "    print('Сorrectness tests:')\n",
    "    print(f'A^(2^{m}-1) = ', hex(int(Convert(PowPoly(Poly_one_copy, 2**m-1)), 2))[2:].swapcase())\n",
    "\n",
    "\n",
    "if choise=='2':\n",
    "    Poly_1 = input('Enter first polynom: A = ')\n",
    "    Poly_one = Deconvert(str(bin(int(f'0x{Poly_1.swapcase()}', 16)))[2:])\n",
    "    while len(Poly_one)<m: Poly_one.insert(0, 0)\n",
    "    Poly_2 = input('Enter second polynom: B = ')\n",
    "    Poly_two = Deconvert(bin(int(f'0x{Poly_2.swapcase()}', 16))[2:])\n",
    "    while len(Poly_two)<m: Poly_two.insert(0, 0)\n",
    "    print('A = ', PrintX(Poly_one))\n",
    "    print('B = ', PrintX(Poly_two))\n",
    "    print('A + B = ', hex(int(Convert(AddPoly(Poly_one, Poly_two)), 2))[2:].swapcase())\n",
    "    print('A*B = ', hex(int(Convert(MulPoly(Poly_one, Poly_two)), 2))[2:].swapcase())\n",
    "    print('A^2 = ', hex(int(Convert(SquarePoly(Poly_one)), 2))[2:].swapcase())\n",
    "    Poly_one= Deconvert(bin(int(f'0x{Poly_1.swapcase()}', 16))[2:])\n",
    "    print('Enter the degree you want the polynom to raise in: ')\n",
    "    n=int(input('n in dec = '))\n",
    "    k=hex(n)[2:].swapcase()\n",
    "    print('n in hex = ', k)\n",
    "    Poly_one= Deconvert(bin(int(f'0x{Poly_1.swapcase()}', 16))[2:])\n",
    "    Poly_two= Deconvert(bin(int(f'0x{Poly_2.swapcase()}', 16))[2:])\n",
    "    print(f'A^{k} = ', hex(int(Convert(PowPoly(Poly_one, n)), 2))[2:].swapcase())\n",
    "    #print('Tr(A) = ', Trace(Poly_one_copy))\n",
    "    print('A^-1 = ', hex(int(Convert(Reverse(Poly_one)), 2))[2:].swapcase())\n",
    "    print('Сorrectness tests:')\n",
    "    print(f'A^(2^{m}-1) = ', hex(int(Convert(PowPoly(Poly_one, 2**m-1)), 2))[2:].swapcase())"
   ]
  },
  {
   "cell_type": "markdown",
   "metadata": {},
   "source": [
    "\n",
    "NORMAL BASIS\n"
   ]
  },
  {
   "cell_type": "code",
   "execution_count": 16,
   "metadata": {},
   "outputs": [],
   "source": [
    "def MakeBasis(m):\n",
    "    x=[]\n",
    "    for i in range(m):\n",
    "        t = f'x^{2**i}'\n",
    "        x.append(t)\n",
    "    res=[]\n",
    "    res.append(', '.join(x))\n",
    "    return res\n",
    "#print('Basis: ', MakeBasis(m))"
   ]
  },
  {
   "cell_type": "code",
   "execution_count": 18,
   "metadata": {},
   "outputs": [],
   "source": [
    "def Trace(a):\n",
    "    res=0\n",
    "    for i in range(len(a)):\n",
    "        res=res+a[i]\n",
    "    return res%2"
   ]
  },
  {
   "cell_type": "code",
   "execution_count": 19,
   "metadata": {},
   "outputs": [],
   "source": [
    "def SquarePoly(a):\n",
    "    return a[-1:] + a[:-1]\n"
   ]
  },
  {
   "cell_type": "code",
   "execution_count": 20,
   "metadata": {
    "scrolled": true
   },
   "outputs": [],
   "source": [
    "def MakeMatrix(m):\n",
    "    p=2*m+1\n",
    "    matrix = np.zeros((m, m))\n",
    "    for i in range(len(matrix[0])):\n",
    "        for j in range(len(matrix)):\n",
    "            if (2**i+2**j)%p==1 or (2**i-2**j)%p==1 or (-2**i+2**j)%p==1 or (-2**i-2**j)%p==1:\n",
    "                matrix[:,i][j] = 1\n",
    "    return matrix\n"
   ]
  },
  {
   "cell_type": "code",
   "execution_count": 21,
   "metadata": {},
   "outputs": [],
   "source": [
    "def MulPoly(a, b):\n",
    "    while len(a)>m: del a[0]\n",
    "    while len(b)>m: del b[0]\n",
    "    if a==[1]: return b\n",
    "    res=m*[0]\n",
    "    M=MakeMatrix(m)\n",
    "    for i in range(m):\n",
    "        res[i]=np.array(np.array(a[i:] + a[:i]).dot(M))\n",
    "        for j in range(len(res[i])):\n",
    "            res[i][j]=res[i][j]%2\n",
    "        res[i]=int(res[i].dot(np.array([b[i:]+b[:i]]).transpose()))%2\n",
    "    return (res)\n"
   ]
  },
  {
   "cell_type": "code",
   "execution_count": 22,
   "metadata": {},
   "outputs": [],
   "source": [
    "def ItohTsujiiReverse(a):\n",
    "    x=bin(m-1)[2:]\n",
    "    t=len(x)-1\n",
    "    beta=a\n",
    "    k=1\n",
    "    for i in reversed(range(0, t)):\n",
    "        beta=MulPoly(PowPoly(beta, 2**k), beta)\n",
    "        k=2*k\n",
    "        if x[::-1][i]=='1':\n",
    "            beta=MulPoly(SquarePoly(beta), a)\n",
    "            k=k+1\n",
    "    beta=SquarePoly(beta)\n",
    "    return beta\n"
   ]
  },
  {
   "cell_type": "code",
   "execution_count": 22,
   "metadata": {},
   "outputs": [],
   "source": [
    "def PowPoly(a, n):\n",
    "    if n==0: return [1]\n",
    "    elif n%2==0:\n",
    "        return PowPoly(SquarePoly(a), n//2)\n",
    "    else:\n",
    "        return MulPoly(PowPoly(SquarePoly(a), n//2), a)\n",
    "        "
   ]
  },
  {
   "cell_type": "markdown",
   "metadata": {},
   "source": [
    "possible input for dimension 179:\n",
    "\n",
    "A = '5DFD6057D4966CE794CE3E061E22AFC373A964CE3ECC6'\n",
    "\n",
    "B = '7324FC676C83A2477A247F76C197A247ED94C9627A247'\n",
    "\n",
    "C = '4B9BE2B966CE794CE347ED94C9627AE061EA39512BF77'"
   ]
  },
  {
   "cell_type": "code",
   "execution_count": 33,
   "metadata": {},
   "outputs": [
    {
     "name": "stdout",
     "output_type": "stream",
     "text": [
      "Enter the m - the field dimension:\n",
      "dimension: 179\n",
      "Enter 1 if you wants randomly generate inputs data or enter 2 to fill in it by yourself: \n",
      "1\n",
      "A =  2E6470881DA0B0DDFF4B180E98DC237FA01B0C6F56DC4\n",
      "B =  493EF5BC448ABD4C18D7F4E5624EF8A33882EBBF9BBED\n",
      "Λ =  [[0. 1. 0. ... 0. 0. 0.]\n",
      " [1. 0. 0. ... 0. 0. 0.]\n",
      " [0. 0. 0. ... 0. 0. 0.]\n",
      " ...\n",
      " [0. 0. 0. ... 0. 0. 0.]\n",
      " [0. 0. 0. ... 0. 0. 0.]\n",
      " [0. 0. 0. ... 0. 0. 1.]]\n",
      "A + B =  675A8534592A0D91E79CECEBFA92DBDC9899E7D0CD629\n",
      "A^2 =  173238440ED0586EFFA58C074C6E11BFD00D8637AB6E2\n",
      "A*B =  61B8DC9593CBE1A72413E4BD7E867D979B9E1DC47ADBC\n",
      "Tr(A) =  0\n",
      "n in dec = 675432134567898765432456789\n",
      "n in hex = 22EB451621CCB6BE5540655\n",
      "A^22EB451621CCB6BE5540655 =  334539ECA1411EAD5643FC90CF817AC52800A5344E5B7\n",
      "A^-1 by Itoh Tsujii algorithm =  744BD55F1AE0B93BE6EF3CE1098C41C6507B23A8810B4\n",
      "A^-1 =  744BD55F1AE0B93BE6EF3CE1098C41C6507B23A8810B4\n",
      "Сorrectness tests:\n",
      "A^(2^179-1) = 1\n",
      "(A+B)^2 =  73AD429A2C9506C8F3CE7675FD496DEE4C4CF3E866B14\n",
      "A^2 + B^2 =  73AD429A2C9506C8F3CE7675FD496DEE4C4CF3E866B14\n",
      "(A+B)*C =  A8774A1257A6CEC7DEE3EEF91091D55FBCE89F26AB40\n",
      "A*C + B*C =  A8774A1257A6CEC7DEE3EEF91091D55FBCE89F26AB40\n"
     ]
    }
   ],
   "source": [
    "print('Enter the m - the field dimension:')\n",
    "m=int(input('dimension: '))\n",
    "print('Enter 1 if you wants randomly generate inputs data or enter 2 to fill in it by yourself: ')\n",
    "choise=input()\n",
    "if choise=='1':\n",
    "    items = [1, 0]\n",
    "    AA = random.choices(items, k=m)\n",
    "    BB = random.choices(items, k=m)\n",
    "    print('A = ', hex(int(Convert(AA), 2))[2:].swapcase())\n",
    "    print('B = ', hex(int(Convert(BB), 2))[2:].swapcase())\n",
    "    print('Λ = ', MakeMatrix(m))\n",
    "    print('A + B = ', hex(int(Convert(AddPoly(AA, BB)), 2))[2:].swapcase())\n",
    "    print('A^2 = ', hex(int(Convert(SquarePoly(AA)), 2))[2:].swapcase())\n",
    "    print('A*B = ', hex(int(Convert(MulPoly(AA, BB)), 2))[2:].swapcase())\n",
    "    print('Tr(A) = ', Trace(AA))\n",
    "    n=int(input('n in dec = '))\n",
    "    k=hex(n)[2:].swapcase()\n",
    "    print('n in hex =', k)\n",
    "    print(f'A^{k} = ', hex(int(Convert(PowPoly(AA, n)), 2))[2:].swapcase())\n",
    "    print('A^-1 by Itoh Tsujii algorithm = ', hex(int(Convert(ItohTsujiiReverse(AA)), 2))[2:].swapcase())\n",
    "    print('A^-1 = ', hex(int(Convert(PowPoly(AA, 2**m-2)), 2))[2:].swapcase())\n",
    "    print('Сorrectness tests:')\n",
    "    C = Convert(PowPoly(AA, 2**m-1))\n",
    "    if ('0' in C) is False:\n",
    "        print(f'A^(2^{m}-1) = ' + '1')\n",
    "    else: print('ERROR')\n",
    "    print('(A+B)^2 = ', hex(int(Convert(SquarePoly(AddPoly(AA, BB))), 2))[2:].swapcase())\n",
    "    print('A^2 + B^2 = ', hex(int(Convert(AddPoly(SquarePoly(AA), SquarePoly(BB))), 2))[2:].swapcase())\n",
    "    print('(A+B)*C = ', hex(int(Convert(MulPoly(AddPoly(AA, BB), CC)), 2))[2:].swapcase())\n",
    "    print('A*C + B*C = ', hex(int(Convert(AddPoly(MulPoly(AA, CC), MulPoly(CC, BB))), 2))[2:].swapcase())\n",
    "if choise=='2':\n",
    "    Poly_1 = input('Enter first polynom: A = ')\n",
    "    AA = Deconvert(str(bin(int(f'0x{Poly_1.swapcase()}', 16)))[2:])\n",
    "    Poly_2 = input('Enter second polynom: B = ')\n",
    "    BB = Deconvert(str(bin(int(f'0x{Poly_2.swapcase()}', 16)))[2:])\n",
    "    print('Λ = ', MakeMatrix(m))\n",
    "    print('A + B = ', hex(int(Convert(AddPoly(AA, BB)), 2))[2:].swapcase())\n",
    "    print('A^2 = ', hex(int(Convert(SquarePoly(AA)), 2))[2:].swapcase())\n",
    "    print('A*B = ', hex(int(Convert(MulPoly(AA, BB)), 2))[2:].swapcase())\n",
    "    print('Tr(A) = ', Trace(AA))\n",
    "    n=int(input('n in dec = '))\n",
    "    k=hex(n)[2:].swapcase()\n",
    "    print('n in hex = ', k)\n",
    "    print(f'A^{k} = ', hex(int(Convert(PowPoly(AA, n)), 2))[2:].swapcase())\n",
    "    print('A^-1 by Itoh Tsujii algorithm = ', hex(int(Convert(ItohTsujiiReverse(AA)), 2))[2:].swapcase())\n",
    "    print('A^-1 = ', hex(int(Convert(PowPoly(AA, 2**m-2)), 2))[2:].swapcase())\n",
    "    print('Сorrectness tests:')\n",
    "    C = Convert(PowPoly(AA, 2**m-1))\n",
    "    if ('0' in C) is False:\n",
    "        print(f'A^(2^{m}-1) = ' + '1')\n",
    "    else: print('ERROR')\n",
    "    print('(A+B)^2 = ', hex(int(Convert(SquarePoly(AddPoly(AA, BB))), 2))[2:].swapcase())\n",
    "    print('A^2 + B^2 = ', hex(int(Convert(AddPoly(SquarePoly(AA), SquarePoly(BB))), 2))[2:].swapcase())\n",
    "    print('(A+B)*C = ', hex(int(Convert(MulPoly(AddPoly(AA, BB), CC)), 2))[2:].swapcase())\n",
    "    print('A*C + B*C = ', hex(int(Convert(AddPoly(MulPoly(AA, CC), MulPoly(CC, BB))), 2))[2:].swapcase())\n",
    "    "
   ]
  },
  {
   "cell_type": "code",
   "execution_count": 199,
   "metadata": {},
   "outputs": [
    {
     "name": "stdout",
     "output_type": "stream",
     "text": [
      "43.3 µs ± 3.15 µs per loop (mean ± std. dev. of 7 runs, 10000 loops each)\n",
      "127 ms ± 4.39 ms per loop (mean ± std. dev. of 7 runs, 10 loops each)\n",
      "1.02 µs ± 14.2 ns per loop (mean ± std. dev. of 7 runs, 1000000 loops each)\n",
      "618 ms ± 29.9 ms per loop (mean ± std. dev. of 7 runs, 1 loop each)\n",
      "974 ms ± 33.2 ms per loop (mean ± std. dev. of 7 runs, 1 loop each)\n",
      "6.87 µs ± 381 ns per loop (mean ± std. dev. of 7 runs, 100000 loops each)\n"
     ]
    }
   ],
   "source": [
    "%timeit AddPoly(AA, BB)\n",
    "%timeit MulPoly(AA, BB)\n",
    "%timeit SquarePoly(AA)\n",
    "%timeit PowPoly(AA, 1000)\n",
    "%timeit ItohTsujiiReverse(AA)\n",
    "%timeit Trace(AA)"
   ]
  },
  {
   "cell_type": "code",
   "execution_count": null,
   "metadata": {},
   "outputs": [],
   "source": [
    "Poly_1 = '606FAF45730E14EF7CDA682987DAD34D0C6CBB15A68C21880E28D4E6F5A12EFCD1D9259'\n",
    "Poly_2 = '5A7BFFEB7873DC3CF75FAF48C5329870DC64FCFCD1D960C64D43DA26EFD0C3CF78CD874'\n",
    "Poly_one = Deconvert(str(bin(int(f'0x{Poly_1.swapcase()}', 16)))[2:])\n",
    "Poly_two = Deconvert(bin(int(f'0x{Poly_2.swapcase()}', 16))[2:])\n",
    "%timeit AddPoly(Poly_one, Poly_two)\n",
    "%timeit MulPoly(Poly_one, Poly_two)\n",
    "%timeit SquarePoly(Poly_one)\n",
    "Poly_one = Deconvert(str(bin(int(f'0x{Poly_1.swapcase()}', 16)))[2:])\n",
    "Poly_two = Deconvert(bin(int(f'0x{Poly_2.swapcase()}', 16))[2:])\n",
    "%timeit PowPoly(Poly_one, 1000)\n",
    "%timeit Reverse(Poly_one)\n",
    "%time Trace(Poly_one)"
   ]
  }
 ],
 "metadata": {
  "kernelspec": {
   "display_name": "Python 3",
   "language": "python",
   "name": "python3"
  },
  "language_info": {
   "codemirror_mode": {
    "name": "ipython",
    "version": 3
   },
   "file_extension": ".py",
   "mimetype": "text/x-python",
   "name": "python",
   "nbconvert_exporter": "python",
   "pygments_lexer": "ipython3",
   "version": "3.7.6"
  }
 },
 "nbformat": 4,
 "nbformat_minor": 4
}
